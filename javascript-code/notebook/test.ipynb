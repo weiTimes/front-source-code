{
 "metadata": {
  "language_info": {
   "codemirror_mode": {
    "name": "ipython",
    "version": 3
   },
   "file_extension": ".py",
   "mimetype": "text/x-python",
   "name": "python",
   "nbconvert_exporter": "python",
   "pygments_lexer": "ipython3",
   "version": "3.8.3"
  },
  "orig_nbformat": 4,
  "kernelspec": {
   "name": "tslab",
   "display_name": "TypeScript",
   "language": "typescript"
  },
  "interpreter": {
   "hash": "dca0ade3e726a953b501b15e8e990130d2b7799f14cfd9f4271676035ebe5511"
  }
 },
 "nbformat": 4,
 "nbformat_minor": 2,
 "cells": [
  {
   "source": [
    "# 这里是 Jupyter Notebook\n",
    "\n",
    "目前使用的是 Typescript 内核，可以在这里编写、运行 ts 代码、编写 markdown。\n",
    "\n",
    "用 Notebook 来记录可交互式的笔记或教程，非常令人惊叹！"
   ],
   "cell_type": "markdown",
   "metadata": {}
  },
  {
   "source": [
    "import * as tslab from 'tslab';\n",
    "\n",
    "console.log('Versions:', tslab.versions)\n",
    "tslab.display.html('Hello <span style=\"color:#007ACC;font-size:x-large\"><b>Type</b>Script</span>!')"
   ],
   "cell_type": "code",
   "metadata": {},
   "execution_count": 1,
   "outputs": [
    {
     "output_type": "stream",
     "name": "stdout",
     "text": [
      "Versions: { tslab: '1.0.15', typescript: '4.1.2', node: 'v12.16.1' }\n"
     ]
    },
    {
     "output_type": "display_data",
     "data": {
      "text/html": "Hello <span style=\"color:#007ACC;font-size:x-large\"><b>Type</b>Script</span>!"
     },
     "metadata": {}
    }
   ]
  },
  {
   "source": [
    "我先写个斐波那契数列。"
   ],
   "cell_type": "markdown",
   "metadata": {}
  },
  {
   "cell_type": "code",
   "execution_count": 2,
   "metadata": {},
   "outputs": [],
   "source": [
    "const nativeFib = (n: number): number => {\n",
    "  if(n > 1) {\n",
    "    return nativeFib(n - 1) + nativeFib(n - 2);\n",
    "  }\n",
    "\n",
    "  return 1;\n",
    "}"
   ]
  },
  {
   "source": [
    "调用定义的斐波那契数列方法，计算所消耗的时间"
   ],
   "cell_type": "markdown",
   "metadata": {}
  },
  {
   "cell_type": "code",
   "execution_count": 3,
   "metadata": {},
   "outputs": [
    {
     "output_type": "stream",
     "name": "stdout",
     "text": [
      "nativeFib(40) = 165580141 (took 1385ms)\n"
     ]
    }
   ],
   "source": [
    "const n = 40;\n",
    "const start = Date.now();\n",
    "console.log(`nativeFib(${n}) = ${nativeFib(n)} (took ${Date.now() - start}ms)`);"
   ]
  },
  {
   "cell_type": "code",
   "execution_count": null,
   "metadata": {},
   "outputs": [],
   "source": []
  }
 ]
}